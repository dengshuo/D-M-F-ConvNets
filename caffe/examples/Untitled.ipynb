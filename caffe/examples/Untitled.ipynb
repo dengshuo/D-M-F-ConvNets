{
 "cells": [
  {
   "cell_type": "code",
   "execution_count": 1,
   "metadata": {},
   "outputs": [],
   "source": [
    "    import numpy as np\n",
    "    import matplotlib.pyplot as plt\n",
    "    %matplotlib inline\n",
    "\n",
    "    #设置默认显示参数\n",
    "    plt.rcParams['figure.figsize'] = (10, 10)        # 图像显示大小\n",
    "    plt.rcParams['image.interpolation'] = 'nearest'  # 最近邻差值: 像素为正方形\n",
    "    plt.rcParams['image.cmap'] = 'gray'  # 使用灰度输出而不是彩色输"
   ]
  },
  {
   "cell_type": "code",
   "execution_count": 2,
   "metadata": {},
   "outputs": [],
   "source": [
    "import sys\n",
    "caffe_root = '../'  #该文件要从路径{caffe_root}/examples下运行，否则要调整这一行。\n",
    "sys.path.insert(0, caffe_root + 'python')\n",
    "\n",
    "import caffe"
   ]
  },
  {
   "cell_type": "code",
   "execution_count": 5,
   "metadata": {},
   "outputs": [],
   "source": [
    "    caffe.set_mode_cpu()\n",
    "\n",
    "    model_def = 'cifar10_full.prototxt'\n",
    "\n",
    "\n",
    "    net = caffe.Net(model_def,      # 定义模型结构\n",
    "                    caffe.TEST)     # 使用测试模式(不执行dropou"
   ]
  },
  {
   "cell_type": "code",
   "execution_count": 6,
   "metadata": {},
   "outputs": [
    {
     "name": "stdout",
     "output_type": "stream",
     "text": [
      "data\t(1, 3, 32, 32)\n",
      "conv1\t(1, 32, 32, 32)\n",
      "conv1_conv1_0_split_0\t(1, 32, 32, 32)\n",
      "conv1_conv1_0_split_1\t(1, 32, 32, 32)\n",
      "pool1\t(1, 32, 16, 16)\n",
      "pool1_relu1_0_split_0\t(1, 32, 16, 16)\n",
      "pool1_relu1_0_split_1\t(1, 32, 16, 16)\n",
      "norm1\t(1, 32, 16, 16)\n",
      "norm1_norm1_0_split_0\t(1, 32, 16, 16)\n",
      "norm1_norm1_0_split_1\t(1, 32, 16, 16)\n",
      "roi_pool5\t(1, 32, 5, 5)\n",
      "conv11\t(1, 32, 16, 16)\n",
      "conv12\t(1, 2, 28, 28)\n"
     ]
    }
   ],
   "source": [
    "    for layer_name, blob in net.blobs.iteritems():\n",
    "        print layer_name + '\\t' + str(blob.data.shape)"
   ]
  },
  {
   "cell_type": "code",
   "execution_count": null,
   "metadata": {},
   "outputs": [],
   "source": []
  }
 ],
 "metadata": {
  "kernelspec": {
   "display_name": "Python 2",
   "language": "python",
   "name": "python2"
  },
  "language_info": {
   "codemirror_mode": {
    "name": "ipython",
    "version": 2
   },
   "file_extension": ".py",
   "mimetype": "text/x-python",
   "name": "python",
   "nbconvert_exporter": "python",
   "pygments_lexer": "ipython2",
   "version": "2.7.12"
  }
 },
 "nbformat": 4,
 "nbformat_minor": 2
}
